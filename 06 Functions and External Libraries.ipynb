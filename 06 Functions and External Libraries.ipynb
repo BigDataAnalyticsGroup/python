{
 "cells": [
  {
   "cell_type": "markdown",
   "metadata": {},
   "source": [
    "**What you learn:**\n",
    "\n",
    "In this notebook you will learn about functions in Python. This includes named functions, lambda (anonymous) functions, generators, and function libraries. \n",
    "\n",
    "Originally based on a [tutorial by Zhiya Zuo](https://github.com/zhiyzuo/python-tutorial) and extended where appropriate.\n",
    "\n",
    "Jens Dittrich, [Big Data Analytics Group](https://bigdata.uni-saarland.de/), [CC-BY-SA](https://creativecommons.org/licenses/by-sa/4.0/legalcode)\n",
    "\n",
    "This notebook is available on https://github.com/BigDataAnalyticsGroup/python."
   ]
  },
  {
   "cell_type": "markdown",
   "metadata": {},
   "source": [
    "### Functions"
   ]
  },
  {
   "cell_type": "markdown",
   "metadata": {},
   "source": [
    "#### Calling functions"
   ]
  },
  {
   "cell_type": "markdown",
   "metadata": {},
   "source": [
    "Previously, we have already made use of many built-in functions to facilitate programming. A function is a block of code with (optional) input arguments (optional) return values. In Python (and many other languages), a function can be called as follows:\n",
    "\n",
    "```python\n",
    ">> output = foo(input_argument1, input_argument2)\n",
    "```"
   ]
  },
  {
   "cell_type": "markdown",
   "metadata": {},
   "source": [
    "We called several functions already when handling [loops](https://github.com/BigDataAnalyticsGroup/python/blob/master/05%20Control%20Logics.ipynb) of this tutorial, for example:"
   ]
  },
  {
   "cell_type": "code",
   "execution_count": 1,
   "metadata": {
    "ExecuteTime": {
     "end_time": "2018-10-25T17:47:37.407545Z",
     "start_time": "2018-10-25T17:47:37.389644Z"
    }
   },
   "outputs": [
    {
     "data": {
      "text/plain": [
       "range(0, 5)"
      ]
     },
     "execution_count": 1,
     "metadata": {},
     "output_type": "execute_result"
    }
   ],
   "source": [
    "a = range(5)\n",
    "a"
   ]
  },
  {
   "cell_type": "markdown",
   "metadata": {},
   "source": [
    "We can nest function calls, here the output of range(5) is the input to list(..):"
   ]
  },
  {
   "cell_type": "code",
   "execution_count": 2,
   "metadata": {
    "ExecuteTime": {
     "end_time": "2018-10-25T17:48:25.160955Z",
     "start_time": "2018-10-25T17:48:25.155505Z"
    }
   },
   "outputs": [
    {
     "data": {
      "text/plain": [
       "[0, 1, 2, 3, 4]"
      ]
     },
     "execution_count": 2,
     "metadata": {},
     "output_type": "execute_result"
    }
   ],
   "source": [
    "list(range(5))"
   ]
  },
  {
   "cell_type": "markdown",
   "metadata": {},
   "source": [
    "Another example:"
   ]
  },
  {
   "cell_type": "code",
   "execution_count": 3,
   "metadata": {
    "ExecuteTime": {
     "end_time": "2018-10-25T17:48:45.482719Z",
     "start_time": "2018-10-25T17:48:45.476899Z"
    }
   },
   "outputs": [
    {
     "data": {
      "text/plain": [
       "3.5"
      ]
     },
     "execution_count": 3,
     "metadata": {},
     "output_type": "execute_result"
    }
   ],
   "source": [
    "abs(-3.5)"
   ]
  },
  {
   "cell_type": "markdown",
   "metadata": {},
   "source": [
    "Often we need more than one input argument. For example:"
   ]
  },
  {
   "cell_type": "code",
   "execution_count": 4,
   "metadata": {
    "ExecuteTime": {
     "end_time": "2018-10-25T17:20:29.734990Z",
     "start_time": "2018-10-25T17:20:29.729907Z"
    }
   },
   "outputs": [
    {
     "data": {
      "text/plain": [
       "[5, 4, 3, 2, 1]"
      ]
     },
     "execution_count": 4,
     "metadata": {},
     "output_type": "execute_result"
    }
   ],
   "source": [
    "list(range(5, 0, -1))"
   ]
  },
  {
   "cell_type": "markdown",
   "metadata": {},
   "source": [
    "A second example, given a dictionary produce a list of the keys sorted by their associated values in the dictionary (not the keys themselves!):"
   ]
  },
  {
   "cell_type": "code",
   "execution_count": 5,
   "metadata": {
    "ExecuteTime": {
     "end_time": "2018-10-25T17:50:16.189583Z",
     "start_time": "2018-10-25T17:50:16.183753Z"
    }
   },
   "outputs": [
    {
     "data": {
      "text/plain": [
       "['a', 'c', 'b']"
      ]
     },
     "execution_count": 5,
     "metadata": {},
     "output_type": "execute_result"
    }
   ],
   "source": [
    "d = {'a': 100, 'c': 50, 'b': 70}\n",
    "# output keys available in this dictionary:\n",
    "list(d.keys())"
   ]
  },
  {
   "cell_type": "code",
   "execution_count": 6,
   "metadata": {
    "ExecuteTime": {
     "end_time": "2018-10-25T17:53:27.808548Z",
     "start_time": "2018-10-25T17:53:27.798150Z"
    }
   },
   "outputs": [
    {
     "data": {
      "text/plain": [
       "(dict, {'a': 100, 'c': 50, 'b': 70})"
      ]
     },
     "execution_count": 6,
     "metadata": {},
     "output_type": "execute_result"
    }
   ],
   "source": [
    "type(d), d"
   ]
  },
  {
   "cell_type": "code",
   "execution_count": 7,
   "metadata": {},
   "outputs": [
    {
     "data": {
      "text/plain": [
       "(list, ['a', 'b', 'c'])"
      ]
     },
     "execution_count": 7,
     "metadata": {},
     "output_type": "execute_result"
    }
   ],
   "source": [
    "# sort dictionary (this function will return a list of the keys)\n",
    "l = sorted(d)\n",
    "type(l), l"
   ]
  },
  {
   "cell_type": "code",
   "execution_count": 8,
   "metadata": {
    "ExecuteTime": {
     "end_time": "2018-10-25T17:53:33.866813Z",
     "start_time": "2018-10-25T17:53:33.861638Z"
    }
   },
   "outputs": [
    {
     "data": {
      "text/plain": [
       "100"
      ]
     },
     "execution_count": 8,
     "metadata": {},
     "output_type": "execute_result"
    }
   ],
   "source": [
    "# show the value of key 'a':\n",
    "d['a']"
   ]
  },
  {
   "cell_type": "code",
   "execution_count": 9,
   "metadata": {},
   "outputs": [],
   "source": [
    "def values(key):\n",
    "    return d[key]"
   ]
  },
  {
   "cell_type": "code",
   "execution_count": 10,
   "metadata": {},
   "outputs": [
    {
     "data": {
      "text/plain": [
       "['c', 'b', 'a']"
      ]
     },
     "execution_count": 10,
     "metadata": {},
     "output_type": "execute_result"
    }
   ],
   "source": [
    "# sort the keys of the dictionary by their associated values:\n",
    "sorted(d, key=values)"
   ]
  },
  {
   "cell_type": "code",
   "execution_count": 11,
   "metadata": {
    "ExecuteTime": {
     "end_time": "2018-10-25T17:51:39.294194Z",
     "start_time": "2018-10-25T17:51:39.286761Z"
    }
   },
   "outputs": [
    {
     "data": {
      "text/plain": [
       "['c', 'b', 'a']"
      ]
     },
     "execution_count": 11,
     "metadata": {},
     "output_type": "execute_result"
    }
   ],
   "source": [
    "# sort the keys of the dictionary by their associated values:\n",
    "sorted(d, key=lambda k: d[k])"
   ]
  },
  {
   "cell_type": "code",
   "execution_count": 12,
   "metadata": {},
   "outputs": [
    {
     "data": {
      "text/plain": [
       "['a', 'b', 'c']"
      ]
     },
     "execution_count": 12,
     "metadata": {},
     "output_type": "execute_result"
    }
   ],
   "source": [
    "# sort the keys of the dictionary by their associated values in reverse (aka descending) order:\n",
    "sorted(d, key=lambda k: d[k], reverse=True)"
   ]
  },
  {
   "cell_type": "markdown",
   "metadata": {},
   "source": [
    "#### Lambda functions"
   ]
  },
  {
   "cell_type": "markdown",
   "metadata": {},
   "source": [
    "Aha, we just saw something different: `lambda`!"
   ]
  },
  {
   "cell_type": "markdown",
   "metadata": {},
   "source": [
    "Lambda functions are just functions, except that they are anonymous (literally). See [here](https://stackoverflow.com/questions/890128/why-are-python-lambdas-useful) for many good discussions. In short, you can use regular functions to achieve anything with `lambda`. Yet, it is handy because it is lightweight and anonymous."
   ]
  },
  {
   "cell_type": "markdown",
   "metadata": {},
   "source": [
    "The example above is actually a good example of when to use `lambda`:"
   ]
  },
  {
   "cell_type": "code",
   "execution_count": 13,
   "metadata": {
    "ExecuteTime": {
     "end_time": "2018-10-25T17:20:29.761643Z",
     "start_time": "2018-10-25T17:20:29.757012Z"
    }
   },
   "outputs": [
    {
     "data": {
      "text/plain": [
       "['c', 'b', 'a']"
      ]
     },
     "execution_count": 13,
     "metadata": {},
     "output_type": "execute_result"
    }
   ],
   "source": [
    "sorted(d, key=lambda k: d[k])"
   ]
  },
  {
   "cell_type": "markdown",
   "metadata": {},
   "source": [
    "There is one and only one expression within the `lambda` function. In this case, the input parameter is `k`, it is expected to be an existing key inside the dictionary `d`. The output of the lambda function is `d[k]`. Therefore we are sorting our dictionary entries by their values rather than by the keys themselves."
   ]
  },
  {
   "cell_type": "markdown",
   "metadata": {},
   "source": [
    "#### Define our own functions"
   ]
  },
  {
   "cell_type": "markdown",
   "metadata": {},
   "source": [
    "Note that we are not limited to built-in or lambda functions only. Let's now try make our own functions. Before that, we need to be clear on the structure of a function:\n",
    "```python\n",
    "def func_name(arg1, arg2, arg3, ...):\n",
    "    # start of the actual code block: must start with a tab\n",
    "    # Do something here # <-- whatever number of code lines, must start with a tab\n",
    "    # end of the actual code block: must start with a tab\n",
    "    return output\n",
    "```\n",
    "\n",
    "\\* *`return output` and all arguments are optional*\n",
    "\n",
    "So again: each line in the code blocks must start with a `tab`. In contrast to Java/C++ which uses {}-Syntax for this."
   ]
  },
  {
   "cell_type": "markdown",
   "metadata": {},
   "source": [
    "In the following example, we make use of `sum`, a built-in function to sum up numeric iterables:"
   ]
  },
  {
   "cell_type": "code",
   "execution_count": 14,
   "metadata": {
    "ExecuteTime": {
     "end_time": "2018-10-25T18:00:12.954116Z",
     "start_time": "2018-10-25T18:00:12.950910Z"
    }
   },
   "outputs": [],
   "source": [
    "def mySum(list_to_sum):\n",
    "    print('mySum was called.')\n",
    "    return sum(list_to_sum)"
   ]
  },
  {
   "cell_type": "code",
   "execution_count": 15,
   "metadata": {
    "ExecuteTime": {
     "end_time": "2018-10-25T18:00:13.219092Z",
     "start_time": "2018-10-25T18:00:13.214135Z"
    }
   },
   "outputs": [
    {
     "name": "stdout",
     "output_type": "stream",
     "text": [
      "mySum was called.\n"
     ]
    },
    {
     "data": {
      "text/plain": [
       "10"
      ]
     },
     "execution_count": 15,
     "metadata": {},
     "output_type": "execute_result"
    }
   ],
   "source": [
    "mySum(range(5))"
   ]
  },
  {
   "cell_type": "code",
   "execution_count": 16,
   "metadata": {},
   "outputs": [
    {
     "data": {
      "text/plain": [
       "10"
      ]
     },
     "execution_count": 16,
     "metadata": {},
     "output_type": "execute_result"
    }
   ],
   "source": [
    "# in this case the outpout is no different to calling sum() directly (other than print statement above):\n",
    "sum(range(5))"
   ]
  },
  {
   "cell_type": "markdown",
   "metadata": {},
   "source": [
    "The same sum function using a for loop to a add up the values in the input list:"
   ]
  },
  {
   "cell_type": "code",
   "execution_count": 17,
   "metadata": {
    "ExecuteTime": {
     "end_time": "2018-10-25T18:00:55.632800Z",
     "start_time": "2018-10-25T18:00:55.628985Z"
    }
   },
   "outputs": [],
   "source": [
    "def mySumUsingLoop(list_to_sum):\n",
    "    runningSum = 0\n",
    "    for item in list_to_sum:\n",
    "        print(item)\n",
    "        runningSum += item\n",
    "        print('current runningSum:', runningSum)\n",
    "    return runningSum"
   ]
  },
  {
   "cell_type": "code",
   "execution_count": 18,
   "metadata": {
    "ExecuteTime": {
     "end_time": "2018-10-25T18:00:55.894819Z",
     "start_time": "2018-10-25T18:00:55.887776Z"
    }
   },
   "outputs": [
    {
     "name": "stdout",
     "output_type": "stream",
     "text": [
      "0\n",
      "current runningSum: 0\n",
      "1\n",
      "current runningSum: 1\n",
      "2\n",
      "current runningSum: 3\n",
      "3\n",
      "current runningSum: 6\n",
      "4\n",
      "current runningSum: 10\n"
     ]
    },
    {
     "data": {
      "text/plain": [
       "10"
      ]
     },
     "execution_count": 18,
     "metadata": {},
     "output_type": "execute_result"
    }
   ],
   "source": [
    "mySumUsingLoop(range(5))"
   ]
  },
  {
   "cell_type": "markdown",
   "metadata": {},
   "source": [
    "*The two example functions are not doing anything interesting but just serve as illustrations to build customized functions.*"
   ]
  },
  {
   "cell_type": "markdown",
   "metadata": {},
   "source": [
    "#### Functions without side effects:"
   ]
  },
  {
   "cell_type": "markdown",
   "metadata": {},
   "source": [
    "Sometimes functions may have surprising side-effects.\n",
    "\n",
    "Actually, a function should **never** have a side-effect."
   ]
  },
  {
   "cell_type": "code",
   "execution_count": 19,
   "metadata": {},
   "outputs": [
    {
     "name": "stdout",
     "output_type": "stream",
     "text": [
      "outer1    [0, 1, 1, 2, 3, 5, 8]\n",
      "  inner1  [0, 1, 1, 2, 3, 5, 8]\n",
      "  inner2  [47, 11]\n",
      "outer2    [0, 1, 1, 2, 3, 5, 8]\n"
     ]
    }
   ],
   "source": [
    "# no side effect:\n",
    "def func1(mylist):\n",
    "    print (\"  inner1 \", mylist)\n",
    "    mylist = [47,11] # this creates a new list object and assigns it to local variable myList!\n",
    "    print (\"  inner2 \", mylist)\n",
    "\n",
    "fib = [0,1,1,2,3,5,8]\n",
    "print(\"outer1   \", fib)\n",
    "func1(fib)\n",
    "print(\"outer2   \", fib)"
   ]
  },
  {
   "cell_type": "code",
   "execution_count": 20,
   "metadata": {},
   "outputs": [
    {
     "name": "stdout",
     "output_type": "stream",
     "text": [
      "140091908619472\n"
     ]
    },
    {
     "data": {
      "text/plain": [
       "93899897223072"
      ]
     },
     "execution_count": 20,
     "metadata": {},
     "output_type": "execute_result"
    }
   ],
   "source": [
    "# show the python-internal id of object fib:\n",
    "print(id(fib))\n",
    "a = 42\n",
    "id(a)"
   ]
  },
  {
   "cell_type": "markdown",
   "metadata": {},
   "source": [
    "From the [Python Docu](https://docs.python.org/3/library/functions.html#id):\n",
    "\n",
    "**id(object)**\n",
    "> Return the “identity” of an object. This is an integer which is guaranteed\n",
    "> to be unique and constant for this object during its lifetime. Two objects\n",
    "> with non-overlapping lifetimes may have the same id() value."
   ]
  },
  {
   "cell_type": "code",
   "execution_count": 21,
   "metadata": {},
   "outputs": [
    {
     "name": "stdout",
     "output_type": "stream",
     "text": [
      "outer1    140091934768976 [0, 1, 1, 2, 3, 5, 8]\n",
      "  inner1  140091934768976 [0, 1, 1, 2, 3, 5, 8]\n",
      "  inner2  140091908619472 [47, 11]\n",
      "outer2    140091934768976 [0, 1, 1, 2, 3, 5, 8]\n"
     ]
    }
   ],
   "source": [
    "# same as above, just additionally printing the id of the list\n",
    "def func1(mylist):\n",
    "    print (\"  inner1 \", id(mylist), mylist)\n",
    "    mylist = [47,11] # this creates a new list object and assigns it to local variable myList!\n",
    "    print (\"  inner2 \", id(mylist), mylist)\n",
    "\n",
    "fib = [0,1,1,2,3,5,8]\n",
    "print(\"outer1   \", id(fib), fib)\n",
    "func1(fib)\n",
    "print(\"outer2   \", id(fib), fib)"
   ]
  },
  {
   "cell_type": "markdown",
   "metadata": {},
   "source": [
    "#### Functions **with** side effects:"
   ]
  },
  {
   "cell_type": "code",
   "execution_count": 22,
   "metadata": {},
   "outputs": [
    {
     "name": "stdout",
     "output_type": "stream",
     "text": [
      "outer1    140091934668032 [0, 1, 1, 2, 3, 5, 8]\n",
      "  inner1  140091934668032 [0, 1, 1, 2, 3, 5, 8]\n",
      "  inner2  140091934668032 [0, 1, 1, 2, 3, 5, 8, 47, 11]\n",
      "outer2    140091934668032 [0, 1, 1, 2, 3, 5, 8, 47, 11]\n"
     ]
    }
   ],
   "source": [
    "# list and fib refer to the same address as shown by calling id():\n",
    "def func2(mylist):\n",
    "    print (\"  inner1 \", id(mylist), mylist)\n",
    "    mylist += [47,11] # appends two elements to the list pointed to\n",
    "    print (\"  inner2 \", id(mylist), mylist)\n",
    "    \n",
    "fib = [0,1,1,2,3,5,8]\n",
    "print(\"outer1   \", id(fib), fib)\n",
    "func2(fib)\n",
    "print(\"outer2   \", id(fib), fib)"
   ]
  },
  {
   "cell_type": "markdown",
   "metadata": {},
   "source": [
    "#### Functions **without** side effects:"
   ]
  },
  {
   "cell_type": "code",
   "execution_count": 23,
   "metadata": {},
   "outputs": [
    {
     "name": "stdout",
     "output_type": "stream",
     "text": [
      "outer1    140091908525424 bla\n",
      "  inner1  140091908525424 bla\n",
      "  inner2  140091908487792 blablub\n",
      "outer2    140091908525424 bla\n"
     ]
    }
   ],
   "source": [
    "# no side effect:\n",
    "def func3(stlocal):\n",
    "    print (\"  inner1 \", id(stlocal), stlocal)\n",
    "    stlocal += 'blub' # this creates a new string object and assigns it to stlocal!\n",
    "    print (\"  inner2 \", id(stlocal), stlocal)\n",
    "    \n",
    "st = 'bla'\n",
    "print(\"outer1   \", id(st), st)\n",
    "func3(st)\n",
    "print(\"outer2   \", id(st), st)"
   ]
  },
  {
   "cell_type": "markdown",
   "metadata": {},
   "source": [
    "#### Generator function:"
   ]
  },
  {
   "cell_type": "markdown",
   "metadata": {},
   "source": [
    "generator functions are useful in situations where we need to iterator over a sequence of items, a prominent example of this is are for-loops:"
   ]
  },
  {
   "cell_type": "code",
   "execution_count": 24,
   "metadata": {},
   "outputs": [
    {
     "name": "stdout",
     "output_type": "stream",
     "text": [
      "yield:,  0\n",
      "loop:  0\n",
      "yield:,  1\n",
      "loop:  1\n",
      "yield:,  4\n",
      "loop:  4\n",
      "yield:,  9\n",
      "loop:  9\n",
      "yield:,  16\n",
      "loop:  16\n",
      "yield:,  25\n",
      "loop:  25\n",
      "yield:,  36\n",
      "loop:  36\n",
      "yield:,  49\n",
      "loop:  49\n",
      "yield:,  64\n",
      "loop:  64\n",
      "yield:,  81\n",
      "loop:  81\n"
     ]
    }
   ],
   "source": [
    "# generator function:\n",
    "def square(n):\n",
    "    for i in range(n):\n",
    "        print (\"yield:, \", i**2)\n",
    "        yield i**2\n",
    "\n",
    "for i in square(10):\n",
    "    print(\"loop: \",i)"
   ]
  },
  {
   "cell_type": "code",
   "execution_count": 25,
   "metadata": {},
   "outputs": [
    {
     "name": "stdout",
     "output_type": "stream",
     "text": [
      "pfzlmvn, iurgepa, thhsgjq, yejstoy, oohvyxh, flzgskr, prumydt, keakmnn, icvmiuw, cxrrbfm, "
     ]
    }
   ],
   "source": [
    "import random\n",
    "import string\n",
    "\n",
    "# generator function for words consisting of random characters:\n",
    "def blabla(n, length):\n",
    "    for i in range(n):\n",
    "        ret = ''\n",
    "        for y in range(length):\n",
    "            ret += random.choice(string.ascii_letters)\n",
    "        yield ret.lower()\n",
    "\n",
    "for bla in blabla(10,7):\n",
    "    print(bla+\", \", end=\"\")\n",
    "    "
   ]
  },
  {
   "cell_type": "markdown",
   "metadata": {},
   "source": [
    "Here, a function is easier (and more elegant) than defining a lambda function."
   ]
  },
  {
   "cell_type": "markdown",
   "metadata": {},
   "source": [
    "### Libraries"
   ]
  },
  {
   "cell_type": "markdown",
   "metadata": {},
   "source": [
    "Often we need either internal or external help for complicated computation tasks. In these occasions, we need to _import libraries_, basically collections of existing functions.\n",
    "\n",
    "One strength of Python is the **incredible universe of available libraries**. You can find libraries for almost anything.\n",
    "\n",
    "to start:\n",
    "\n",
    "[Python Standard Library](https://docs.python.org/3/library/)\n",
    "\n",
    "[Python Package Index](https://pypi.org/search/)"
   ]
  },
  {
   "cell_type": "markdown",
   "metadata": {},
   "source": [
    "#### Built-in libraries"
   ]
  },
  {
   "cell_type": "markdown",
   "metadata": {},
   "source": [
    "We will use the __math__-library as an example."
   ]
  },
  {
   "cell_type": "code",
   "execution_count": 26,
   "metadata": {
    "ExecuteTime": {
     "end_time": "2018-10-25T18:11:30.413987Z",
     "start_time": "2018-10-25T18:11:30.411351Z"
    }
   },
   "outputs": [],
   "source": [
    "import math # use import to load a library"
   ]
  },
  {
   "cell_type": "markdown",
   "metadata": {},
   "source": [
    "To use functions from the library, do: `library_name.function_name`. For example, when we want to calculate the logarithm using a function from `math` library, we can do `math.log`"
   ]
  },
  {
   "cell_type": "code",
   "execution_count": 27,
   "metadata": {
    "ExecuteTime": {
     "end_time": "2018-10-25T18:12:36.793378Z",
     "start_time": "2018-10-25T18:12:36.788201Z"
    }
   },
   "outputs": [
    {
     "name": "stdout",
     "output_type": "stream",
     "text": [
      "e^5 = 148.413159\n",
      "log(5) = 1.609438\n"
     ]
    }
   ],
   "source": [
    "x = 5\n",
    "print(\"e^%i\"%x,\"= %f\"%math.exp(x))\n",
    "print(\"log(%i)\"%x,\"= %f\"%math.log(x))"
   ]
  },
  {
   "cell_type": "markdown",
   "metadata": {},
   "source": [
    "You can also import one specific function only:"
   ]
  },
  {
   "cell_type": "code",
   "execution_count": 28,
   "metadata": {
    "ExecuteTime": {
     "end_time": "2018-10-25T18:12:37.162731Z",
     "start_time": "2018-10-25T18:12:37.157103Z"
    }
   },
   "outputs": [
    {
     "name": "stdout",
     "output_type": "stream",
     "text": [
      "148.4131591025766\n"
     ]
    }
   ],
   "source": [
    "from math import exp # You can import a specific function\n",
    "print(exp(x)) # This way, you don't need to use math.exp but just exp"
   ]
  },
  {
   "cell_type": "markdown",
   "metadata": {},
   "source": [
    "Or import all functions from a library:"
   ]
  },
  {
   "cell_type": "code",
   "execution_count": 29,
   "metadata": {
    "ExecuteTime": {
     "end_time": "2018-10-25T17:20:30.324507Z",
     "start_time": "2018-10-25T17:20:30.320936Z"
    }
   },
   "outputs": [],
   "source": [
    "from math import * # Import all functions"
   ]
  },
  {
   "cell_type": "code",
   "execution_count": 30,
   "metadata": {
    "ExecuteTime": {
     "end_time": "2018-10-25T17:20:30.331795Z",
     "start_time": "2018-10-25T17:20:30.327483Z"
    }
   },
   "outputs": [
    {
     "name": "stdout",
     "output_type": "stream",
     "text": [
      "148.4131591025766\n",
      "1.6094379124341003\n"
     ]
    }
   ],
   "source": [
    "print(exp(x))\n",
    "print(log(x)) # Before importing math, calling `exp` or `log` will raise errors"
   ]
  },
  {
   "cell_type": "markdown",
   "metadata": {},
   "source": [
    "Depending on what you want to achieve, you may want to choose between importing a few or all (by `*`) functions within a package."
   ]
  },
  {
   "cell_type": "markdown",
   "metadata": {},
   "source": [
    "#### External libraries"
   ]
  },
  {
   "cell_type": "markdown",
   "metadata": {
    "ExecuteTime": {
     "end_time": "2017-10-21T16:45:05.266743Z",
     "start_time": "2017-10-21T16:45:05.260803Z"
    }
   },
   "source": [
    "There are times you'll want some advanced utility functions not provided by Python. There are many useful packages by developers.\n",
    "\n",
    "We'll use __numpy__ as an example. (__numpy__, __scipy__, __matplotlib__,and probably __pandas__ will be of the most importance to you for data analyses.\n",
    "\n",
    "Installation of packages for Python through the command line is easy <a href=\"https://packaging.python.org/installing/\" target=\"_blank\">pip</a>:"
   ]
  },
  {
   "cell_type": "markdown",
   "metadata": {},
   "source": [
    "```bash\n",
    "~$ pip install numpy scipy pandas\n",
    "```\n",
    "This assumes that pip executes pip3. On my machine I have to call:\n",
    "\n",
    "```bash\n",
    "~$ pip3 install numpy scipy pandas\n",
    "```"
   ]
  },
  {
   "cell_type": "markdown",
   "metadata": {},
   "source": [
    "For this lecture, you do not have to install libraries yourself. All necessary libraries are preinstalled through vagrant. If we need more, we will update [the vagrant file](https://github.com/BigDataAnalyticsGroup/python/blob/master/Vagrantfile). Also make sure you do not miss [our instructions](https://github.com/BigDataAnalyticsGroup/python/blob/master/Instructions.md) on how to use vagrant."
   ]
  },
  {
   "cell_type": "code",
   "execution_count": null,
   "metadata": {},
   "outputs": [],
   "source": []
  }
 ],
 "metadata": {
  "hide_input": false,
  "kernelspec": {
   "display_name": "Python 3",
   "language": "python",
   "name": "python3"
  },
  "language_info": {
   "codemirror_mode": {
    "name": "ipython",
    "version": 3
   },
   "file_extension": ".py",
   "mimetype": "text/x-python",
   "name": "python",
   "nbconvert_exporter": "python",
   "pygments_lexer": "ipython3",
   "version": "3.7.6"
  },
  "toc": {
   "base_numbering": 1,
   "nav_menu": {},
   "number_sections": true,
   "sideBar": true,
   "skip_h1_title": false,
   "title_cell": "Table of Contents",
   "title_sidebar": "Contents",
   "toc_cell": false,
   "toc_position": {
    "height": "840px",
    "left": "0px",
    "right": "1111px",
    "top": "113px",
    "width": "253px"
   },
   "toc_section_display": "block",
   "toc_window_display": true
  },
  "varInspector": {
   "cols": {
    "lenName": 16,
    "lenType": 16,
    "lenVar": 40
   },
   "kernels_config": {
    "python": {
     "delete_cmd_postfix": "",
     "delete_cmd_prefix": "del ",
     "library": "var_list.py",
     "varRefreshCmd": "print(var_dic_list())"
    },
    "r": {
     "delete_cmd_postfix": ") ",
     "delete_cmd_prefix": "rm(",
     "library": "var_list.r",
     "varRefreshCmd": "cat(var_dic_list()) "
    }
   },
   "position": {
    "height": "275px",
    "left": "918px",
    "right": "20px",
    "top": "120px",
    "width": "338px"
   },
   "types_to_exclude": [
    "module",
    "function",
    "builtin_function_or_method",
    "instance",
    "_Feature"
   ],
   "window_display": false
  }
 },
 "nbformat": 4,
 "nbformat_minor": 2
}
