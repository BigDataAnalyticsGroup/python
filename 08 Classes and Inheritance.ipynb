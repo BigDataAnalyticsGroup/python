{
 "cells": [
  {
   "cell_type": "markdown",
   "metadata": {},
   "source": [
    "**What you learn:**\n",
    "\n",
    "In this notebook you will learn about object-oriented programming in Python. This includes basic class definitions, constructors, destructors (finalizers), inheritance, instance vs class attributes. \n",
    "\n",
    "Jens Dittrich, [Big Data Analytics Group](https://bigdata.uni-saarland.de/), [CC-BY-SA](https://creativecommons.org/licenses/by-sa/4.0/legalcode)\n",
    "\n",
    "This notebook is available on https://github.com/BigDataAnalyticsGroup/python."
   ]
  },
  {
   "cell_type": "code",
   "execution_count": 1,
   "metadata": {},
   "outputs": [],
   "source": [
    "class A:\n",
    "    # the constructor\n",
    "    def __init__(self, counter=0, data=['what','ever']): \n",
    "        self.counter = counter\n",
    "        self.words = data\n",
    "        print('constructor of class A was called, counter:', self.counter)\n",
    "\n",
    "    # the \"kind of\"-destructor/finalizer\n",
    "    # Note that in Python (as in Java) and in contrast to languages like C++ there is no guarantee\n",
    "    # if and when this method will be executed!\n",
    "    # If you want to make sure that certain cleanup routines are executed, define a separate close()-method.\n",
    "    def __del__(self):                        \n",
    "        print('destructor of an instance of A was called, counter:', self.counter)\n",
    "        if self.words != None:\n",
    "            del(self.words)\n",
    "\n",
    "    def __len__(self): # think of \"self\" as \"this\" in Java, instance methods must have self as their first parameter\n",
    "        return len(self.words)\n",
    "    \n",
    "    def close(self):\n",
    "        # my own cleanup method\n",
    "        pass"
   ]
  },
  {
   "cell_type": "code",
   "execution_count": 2,
   "metadata": {},
   "outputs": [],
   "source": [
    "counter = 0"
   ]
  },
  {
   "cell_type": "code",
   "execution_count": 3,
   "metadata": {},
   "outputs": [
    {
     "name": "stdout",
     "output_type": "stream",
     "text": [
      "constructor of class A was called, counter: 1\n"
     ]
    }
   ],
   "source": [
    "# Usage\n",
    "counter +=1\n",
    "a = A(counter)     # create an instance oy MyClass"
   ]
  },
  {
   "cell_type": "code",
   "execution_count": 4,
   "metadata": {},
   "outputs": [
    {
     "name": "stdout",
     "output_type": "stream",
     "text": [
      "2\n"
     ]
    }
   ],
   "source": [
    "print(len(a))  # will print 2"
   ]
  },
  {
   "cell_type": "code",
   "execution_count": 5,
   "metadata": {},
   "outputs": [
    {
     "name": "stdout",
     "output_type": "stream",
     "text": [
      "['what', 'ever']\n"
     ]
    }
   ],
   "source": [
    "print(a.words)    # will print ['what','ever']"
   ]
  },
  {
   "cell_type": "code",
   "execution_count": 7,
   "metadata": {},
   "outputs": [],
   "source": [
    "a2 = a"
   ]
  },
  {
   "cell_type": "code",
   "execution_count": 8,
   "metadata": {},
   "outputs": [],
   "source": [
    "a = None"
   ]
  },
  {
   "cell_type": "code",
   "execution_count": 9,
   "metadata": {},
   "outputs": [
    {
     "name": "stdout",
     "output_type": "stream",
     "text": [
      "destructor of an instance of A was called, counter: 1\n"
     ]
    }
   ],
   "source": [
    "# setting the last ref to the object to None will call the destructor (reference counting):\n",
    "a2 = None"
   ]
  },
  {
   "cell_type": "code",
   "execution_count": 12,
   "metadata": {},
   "outputs": [
    {
     "name": "stdout",
     "output_type": "stream",
     "text": [
      "constructor of class A was called, counter: ['foo', 'bar']\n",
      "2\n",
      "['what', 'ever']\n"
     ]
    }
   ],
   "source": [
    "a3 = A([\"foo\",\"bar\"])\n",
    "print(len(a3))  # will print 2\n",
    "print(a3.words)    # will print ['foo','bar']"
   ]
  },
  {
   "cell_type": "code",
   "execution_count": 13,
   "metadata": {},
   "outputs": [],
   "source": [
    "# B is a subclass of A:\n",
    "class B(A): # brackets are used to extend a base class\n",
    "    def __init__(self, counter=0, data=None): # the constructor\n",
    "        print('constructor of class B was called')\n",
    "        super().__init__(counter, data)     # call the constructor of the superclass\n",
    "        print('counter: ',self.counter)\n",
    "        # do something here...\n",
    "        \n",
    "    def __del__(self): \n",
    "        print('destructor of an instance of B was called', self.counter)\n",
    "        # do something here...\n",
    "\n",
    "        super().__del__()         # call the destructor of the superclass"
   ]
  },
  {
   "cell_type": "code",
   "execution_count": 14,
   "metadata": {},
   "outputs": [
    {
     "name": "stdout",
     "output_type": "stream",
     "text": [
      "constructor of class B was called\n",
      "constructor of class A was called, counter: 0\n",
      "counter:  0\n"
     ]
    }
   ],
   "source": [
    "b = B()"
   ]
  },
  {
   "cell_type": "code",
   "execution_count": 15,
   "metadata": {},
   "outputs": [
    {
     "data": {
      "text/plain": [
       "0"
      ]
     },
     "execution_count": 15,
     "metadata": {},
     "output_type": "execute_result"
    }
   ],
   "source": [
    "b.counter"
   ]
  },
  {
   "cell_type": "code",
   "execution_count": 16,
   "metadata": {},
   "outputs": [
    {
     "name": "stdout",
     "output_type": "stream",
     "text": [
      "destructor of an instance of B was called 0\n",
      "destructor of an instance of A was called, counter: 0\n"
     ]
    }
   ],
   "source": [
    "b = None"
   ]
  },
  {
   "cell_type": "markdown",
   "metadata": {},
   "source": [
    "**Pitfall**: Instance vs class attributes"
   ]
  },
  {
   "cell_type": "code",
   "execution_count": 17,
   "metadata": {},
   "outputs": [],
   "source": [
    "# in a class declaration an instance attribute may have the same name as the class attribute!\n",
    "class A: \n",
    "    counter = 0  # this is a class(!) attribute used for counting the number of instances of this class\n",
    "    \n",
    "    def __init__(self): \n",
    "        print('constructor of class A was called')\n",
    "        # increase the class attribute:\n",
    "        type(self).counter += 1\n",
    "        #alternatively:\n",
    "        #A.counter += 1\n",
    "        # set the instance attribute:\n",
    "        self.counter = 0\n",
    "\n",
    "    def __del__(self): \n",
    "        print('destructor of an instance of A was called')\n",
    "\n",
    "        # decrease the class attribute:\n",
    "        type(self).counter -= 1\n",
    "\n",
    "    def incInstanceCounter(self):\n",
    "        # increase the instance attribute:\n",
    "        self.counter += 1\n",
    "        \n",
    "    def printCounters(self):\n",
    "        print(\"instance: \", self.counter, \" class: \", type(self).counter)"
   ]
  },
  {
   "cell_type": "code",
   "execution_count": 18,
   "metadata": {},
   "outputs": [
    {
     "name": "stdout",
     "output_type": "stream",
     "text": [
      "constructor of class A was called\n",
      "instance:  0  class:  1\n",
      "constructor of class A was called\n",
      "instance:  0  class:  2\n",
      "instance:  0  class:  2\n"
     ]
    }
   ],
   "source": [
    "# let's instantiate some objects and thereby increase the instance counter:\n",
    "x = A()\n",
    "x.printCounters()\n",
    "y = A()\n",
    "x.printCounters()\n",
    "y.printCounters()"
   ]
  },
  {
   "cell_type": "markdown",
   "metadata": {},
   "source": [
    "now let's increase the individual instance attributes:"
   ]
  },
  {
   "cell_type": "code",
   "execution_count": 19,
   "metadata": {},
   "outputs": [
    {
     "name": "stdout",
     "output_type": "stream",
     "text": [
      "instance:  1  class:  2\n"
     ]
    }
   ],
   "source": [
    "y.incInstanceCounter()\n",
    "y.printCounters()"
   ]
  },
  {
   "cell_type": "code",
   "execution_count": 20,
   "metadata": {},
   "outputs": [
    {
     "name": "stdout",
     "output_type": "stream",
     "text": [
      "destructor of an instance of A was called\n",
      "destructor of an instance of A was called\n"
     ]
    },
    {
     "data": {
      "text/plain": [
       "(None, None)"
      ]
     },
     "execution_count": 20,
     "metadata": {},
     "output_type": "execute_result"
    }
   ],
   "source": [
    "x = None\n",
    "y = None\n",
    "x,y"
   ]
  },
  {
   "cell_type": "code",
   "execution_count": 21,
   "metadata": {},
   "outputs": [
    {
     "data": {
      "text/plain": [
       "0"
      ]
     },
     "execution_count": 21,
     "metadata": {},
     "output_type": "execute_result"
    }
   ],
   "source": [
    "A.counter"
   ]
  },
  {
   "cell_type": "code",
   "execution_count": 22,
   "metadata": {},
   "outputs": [],
   "source": [
    "class Foo: \n",
    "    counter = 42"
   ]
  },
  {
   "cell_type": "code",
   "execution_count": 23,
   "metadata": {},
   "outputs": [
    {
     "data": {
      "text/plain": [
       "42"
      ]
     },
     "execution_count": 23,
     "metadata": {},
     "output_type": "execute_result"
    }
   ],
   "source": [
    "Foo.counter"
   ]
  },
  {
   "cell_type": "code",
   "execution_count": null,
   "metadata": {},
   "outputs": [],
   "source": []
  }
 ],
 "metadata": {
  "kernelspec": {
   "display_name": "Python 3",
   "language": "python",
   "name": "python3"
  },
  "language_info": {
   "codemirror_mode": {
    "name": "ipython",
    "version": 3
   },
   "file_extension": ".py",
   "mimetype": "text/x-python",
   "name": "python",
   "nbconvert_exporter": "python",
   "pygments_lexer": "ipython3",
   "version": "3.7.6"
  },
  "varInspector": {
   "cols": {
    "lenName": 16,
    "lenType": 16,
    "lenVar": 40
   },
   "kernels_config": {
    "python": {
     "delete_cmd_postfix": "",
     "delete_cmd_prefix": "del ",
     "library": "var_list.py",
     "varRefreshCmd": "print(var_dic_list())"
    },
    "r": {
     "delete_cmd_postfix": ") ",
     "delete_cmd_prefix": "rm(",
     "library": "var_list.r",
     "varRefreshCmd": "cat(var_dic_list()) "
    }
   },
   "position": {
    "height": "240px",
    "left": "868px",
    "right": "20px",
    "top": "122px",
    "width": "378px"
   },
   "types_to_exclude": [
    "module",
    "function",
    "builtin_function_or_method",
    "instance",
    "_Feature"
   ],
   "window_display": false
  }
 },
 "nbformat": 4,
 "nbformat_minor": 2
}
